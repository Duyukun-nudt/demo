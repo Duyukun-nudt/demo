{
 "cells": [
  {
   "cell_type": "code",
   "execution_count": 1,
   "metadata": {},
   "outputs": [],
   "source": [
    "import torch\n",
    "import numpy as np\n",
    "from tqdm import tqdm\n",
    "import torch.optim as optim\n",
    "import copy"
   ]
  },
  {
   "cell_type": "markdown",
   "metadata": {},
   "source": [
    "## 函数实现"
   ]
  },
  {
   "cell_type": "code",
   "execution_count": 2,
   "metadata": {},
   "outputs": [],
   "source": [
    "def step1(x,y,lam,epoch=5000):\n",
    "    \n",
    " \n",
    "    n1,n2 = y.shape\n",
    "    m1,m2 = x.shape\n",
    "    \n",
    "    T = torch.tensor(np.where(y==0,0,1))#\n",
    "    gama = torch.randn(m2,n2,requires_grad=True,dtype=torch.float)\n",
    "    z = torch.randn(n1,n2,requires_grad=True,dtype=torch.float)\n",
    "    \n",
    "    optimizer = optim.Adam([gama,z], lr=0.1)\n",
    "    for epoch in tqdm(range(1000)):\n",
    "        optimizer.zero_grad()  # 清空之前的梯度\n",
    "        a1 = torch.mul(T,torch.log(torch.sigmoid(x@gama)+z))\n",
    "        a2 = torch.mul((1-T),torch.log(1-(torch.sigmoid(x@gama)+z)))\n",
    "        a3 = lam*torch.linalg.norm(z, ord='nuc')\n",
    "        loss = -(a1+a2-a3)\n",
    "        loss.backward()\n",
    "        # 参数更新\n",
    "        optimizer.step()\n",
    "    \n",
    "   \n",
    "    \n",
    "    \n",
    "    thta = torch.sigmoid(x@gama)+z\n",
    "    \n",
    "    \n",
    "    return thta.detach()\n",
    "\n",
    "\n",
    "    \n",
    "    \n",
    "    \n",
    "\n",
    "\n",
    "\n",
    "def step2(sita,y,lam=0.01,num_epochs=1000):\n",
    "    sita = sita**(-0.5)\n",
    "    T = torch.tensor(np.where(y==0,0,1))\n",
    "    # print(T)\n",
    "    n1,n2 = y.shape\n",
    "    A = torch.randn((n1,n2), requires_grad=True,dtype=torch.float)\n",
    "    optimizer = optim.Adam([A], lr=0.1)\n",
    "    for epoch in tqdm(range(num_epochs)):\n",
    "        optimizer.zero_grad()  # 清空之前的梯度\n",
    "        w = torch.mul(T,sita)\n",
    "        loss = torch.norm(torch.mul(w,(A-y)), p=2)/(n1*n2)+lam*torch.linalg.norm(A, ord='nuc')\n",
    "        loss.backward()\n",
    "        # 参数更新\n",
    "        optimizer.step()\n",
    "        # if (epoch+1) % (num_epochs/5) == 0:\n",
    "        #     print(f'Epoch {epoch+1}: Loss = {loss.item():.4f}')\n",
    "    return A\n",
    "\n",
    "def compute_missing_probabilities(matrix):\n",
    "    # 获取矩阵的大小\n",
    "    m, n = matrix.shape\n",
    "\n",
    "    # 创建一个与原始矩阵相同大小的矩阵，用于存储每个元素的缺失概率\n",
    "    missing_probs = np.zeros((m, n))\n",
    "\n",
    "    # 计算行缺失概率\n",
    "    row_probs = 1 - np.count_nonzero(matrix, axis=1) / n\n",
    "\n",
    "    # 计算列缺失概率\n",
    "    col_probs = 1 - np.count_nonzero(matrix, axis=0) / m\n",
    "\n",
    "    # 计算每个元素的缺失概率\n",
    "    for i in range(m):\n",
    "        for j in range(n):\n",
    "            missing_probs[i, j] = row_probs[i] * col_probs[j]\n",
    "\n",
    "    return missing_probs\n"
   ]
  },
  {
   "cell_type": "markdown",
   "metadata": {},
   "source": [
    "## 参数设置"
   ]
  },
  {
   "cell_type": "code",
   "execution_count": 99,
   "metadata": {},
   "outputs": [],
   "source": [
    "torch.manual_seed(140)\n",
    "np.random.seed(110)\n",
    "n1,n2 = 100,100\n",
    "nums_v = 20\n"
   ]
  },
  {
   "cell_type": "markdown",
   "metadata": {},
   "source": [
    "## main"
   ]
  },
  {
   "cell_type": "code",
   "execution_count": 118,
   "metadata": {},
   "outputs": [
    {
     "name": "stderr",
     "output_type": "stream",
     "text": [
      "100%|██████████| 1000/1000 [00:00<00:00, 4194.93it/s]\n",
      "100%|██████████| 999/999 [00:01<00:00, 556.16it/s]\n",
      "100%|██████████| 1000/1000 [00:01<00:00, 733.00it/s]\n"
     ]
    }
   ],
   "source": [
    "seed = 12\n",
    "torch.manual_seed(seed)\n",
    "np.random.seed(seed)\n",
    "A = torch.rand(n1,n2)*10\n",
    "\n",
    "\n",
    "\n",
    "y = copy.deepcopy(A)+torch.randn(n1,n2)*0.5\n",
    "\n",
    "for i in range(n1):\n",
    "    for j in range(n2):\n",
    "        \n",
    "        p = np.random.uniform(0,1,1)\n",
    "        \n",
    "        if p>=0.5:\n",
    "            y[i,j] = 0\n",
    "\n",
    "\n",
    "thta = step1(w=0,y=y,nums_v=nums_v,lam=1)\n",
    "x = step2(thta,y,lam=0.000001)"
   ]
  },
  {
   "cell_type": "code",
   "execution_count": 97,
   "metadata": {},
   "outputs": [
    {
     "data": {
      "text/plain": [
       "tensor([[1., 1., 1.,  ..., 1., 1., 1.],\n",
       "        [1., 1., 1.,  ..., 1., 1., 1.],\n",
       "        [1., 1., 1.,  ..., 1., 1., 1.],\n",
       "        ...,\n",
       "        [1., 1., 1.,  ..., 1., 1., 1.],\n",
       "        [1., 1., 1.,  ..., 1., 1., 1.],\n",
       "        [1., 1., 1.,  ..., 1., 1., 1.]])"
      ]
     },
     "execution_count": 97,
     "metadata": {},
     "output_type": "execute_result"
    }
   ],
   "source": [
    "thta"
   ]
  },
  {
   "cell_type": "code",
   "execution_count": 30,
   "metadata": {},
   "outputs": [
    {
     "data": {
      "text/plain": [
       "tensor([[0.7576, 0.0000, 0.4031,  ..., 0.0000, 0.2873, 0.0000],\n",
       "        [0.9579, 0.0000, 0.0000,  ..., 0.8212, 0.0000, 0.0000],\n",
       "        [0.0000, 0.0000, 0.0000,  ..., 0.5069, 0.0000, 0.2210],\n",
       "        ...,\n",
       "        [0.3813, 0.5065, 0.0000,  ..., 0.0000, 0.6924, 0.2933],\n",
       "        [0.0000, 0.0844, 0.0000,  ..., 0.6694, 0.0000, 0.5073],\n",
       "        [0.7087, 0.0000, 0.0000,  ..., 0.4243, 0.0811, 0.0000]])"
      ]
     },
     "execution_count": 30,
     "metadata": {},
     "output_type": "execute_result"
    }
   ],
   "source": [
    "y"
   ]
  },
  {
   "cell_type": "code",
   "execution_count": 119,
   "metadata": {},
   "outputs": [
    {
     "data": {
      "text/plain": [
       "tensor(6.7926, grad_fn=<AmaxBackward0>)"
      ]
     },
     "execution_count": 119,
     "metadata": {},
     "output_type": "execute_result"
    }
   ],
   "source": [
    "T = torch.tensor(np.where(y==0,0,1))\n",
    "torch.linalg.norm(torch.mul(x,T)-torch.mul(A,T),ord=2)"
   ]
  },
  {
   "cell_type": "code",
   "execution_count": 120,
   "metadata": {},
   "outputs": [
    {
     "name": "stderr",
     "output_type": "stream",
     "text": [
      "100%|██████████| 1000/1000 [00:01<00:00, 806.63it/s]\n"
     ]
    },
    {
     "data": {
      "text/plain": [
       "tensor(6.7879, grad_fn=<AmaxBackward0>)"
      ]
     },
     "execution_count": 120,
     "metadata": {},
     "output_type": "execute_result"
    }
   ],
   "source": [
    "# thta = torch.ones(y.shape)\n",
    "# thta = compute_missing_probabilities(y)\n",
    "# thta = torch.tensor(thta)\n",
    "thta = torch.ones(y.shape)*0.5\n",
    "x = step2(thta,y,lam=0.000001)\n",
    "torch.linalg.norm(torch.mul(x,T)-torch.mul(A,T),ord=2)"
   ]
  }
 ],
 "metadata": {
  "kernelspec": {
   "display_name": "base",
   "language": "python",
   "name": "python3"
  },
  "language_info": {
   "codemirror_mode": {
    "name": "ipython",
    "version": 3
   },
   "file_extension": ".py",
   "mimetype": "text/x-python",
   "name": "python",
   "nbconvert_exporter": "python",
   "pygments_lexer": "ipython3",
   "version": "3.9.13"
  }
 },
 "nbformat": 4,
 "nbformat_minor": 2
}
