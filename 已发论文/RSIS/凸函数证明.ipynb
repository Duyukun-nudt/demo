{
 "cells": [
  {
   "attachments": {},
   "cell_type": "markdown",
   "metadata": {},
   "source": [
    "# 定理1"
   ]
  },
  {
   "attachments": {},
   "cell_type": "markdown",
   "metadata": {},
   "source": [
    "总目标函数如下："
   ]
  },
  {
   "attachments": {},
   "cell_type": "markdown",
   "metadata": {},
   "source": [
    "$$\n",
    "\\begin{align*}\n",
    "&\\qquad L = \\sum\\limits_{s=1}^{k^\\prime}\\left( ||y^{s,s+1}-X^{s,s+1}\\beta^{s,s+1}||_2^2+\\dfrac{\\lambda}{\\text{dist}(\\bar{x}^s,\\bar{x}^{s+1})+1}||\\beta^{s,s+1}-\\beta^{s-1,s}||_1 \\right) \\\\\n",
    "\\end{align*}\n",
    "$$"
   ]
  },
  {
   "attachments": {},
   "cell_type": "markdown",
   "metadata": {},
   "source": [
    "其中，$y^{s,s+1}\\in R^{n\\times1}$, $X^{s,s+1}\\in R^{n\\times p}$, $\\beta^{s,s+1}\\in R^{p\\times1}$, $\\lambda_s\\in [0,1]$"
   ]
  },
  {
   "attachments": {},
   "cell_type": "markdown",
   "metadata": {},
   "source": [
    "令$f(\\beta)=L(\\beta^{0,1},\\beta^{1,2},\\ldots,\\beta^{k^\\prime-1,k^\\prime}) $, 其中$\\beta=\\left((\\beta^{0,1})^\\prime,(\\beta^{1,2})^\\prime,\\ldots,(\\beta^{k^\\prime-1,k^\\prime})^\\prime\\right)^\\prime\\in R^{k^\\prime\\times p,1}$，对$\\forall\\omega\\in[0,1]$, $\\beta_1\\in R^{k^\\prime\\times p,1}$, $\\beta_2\\in R^{k^\\prime\\times p,1}$, 我们有："
   ]
  },
  {
   "attachments": {},
   "cell_type": "markdown",
   "metadata": {},
   "source": [
    "$$\n",
    "\\begin{align*}\n",
    "&\\qquad f(\\omega\\beta_1+(1-\\omega)\\beta_2) \\\\\n",
    "&=\\sum\\limits_{s=1}^{k^\\prime}\\left( ||y^{s,s+1}-X^{s,s+1}[\\omega\\beta_1^{s,s+1}+(1-\\omega)\\beta_2^{s,s+1}]||_2^2\n",
    "+\\dfrac{\\lambda}{\\text{dist}(\\bar{x}^s,\\bar{x}^{s+1})+1}||[\\omega\\beta_1^{s,s+1}+(1-\\omega)\\beta_2^{s,s+1}]-[\\omega\\beta_1^{s-1,s}+(1-\\omega)\\beta_2^{s-1,s}]||_1 \\right) \\\\\n",
    "&\\le \\sum\\limits_{s=1}^{k^\\prime}\\left( \\omega||y^{s,s+1}-X^{s,s+1}\\beta_1^{s,s+1}||_2^2+(1-\\omega)||y^{s,s+1}-X^{s,s+1}\\beta_2^{s,s+1}||_2^2+\\omega\\dfrac{\\lambda}{\\text{dist}(\\bar{x}^s,\\bar{x}^{s+1})+1}||\\beta_1^{s,s+1}-\\beta_1^{s-1,s}||_1+(1-\\omega)\\dfrac{\\lambda}{\\text{dist}(\\bar{x}^s,\\bar{x}^{s+1})+1}||\\beta_2^{s,s+1}-\\beta_2^{s-1,s}||_1 \\right) \\\\\n",
    "&=\\omega f(\\beta_1)+(1-\\omega)f(\\beta_2)\n",
    "\\end{align*}\n",
    "$$"
   ]
  },
  {
   "cell_type": "markdown",
   "metadata": {},
   "source": [
    "\\begin{align*}\n",
    "L(\\omega\\beta_1 &+ (1-\\omega)\\beta_2) = \\\\\n",
    "&\\sum_{s=1}^{k^\\prime} \\bigg( \\|y^{s,s+1} - X^{s,s+1}[\\omega\\beta_1^{s,s+1} + (1-\\omega)\\beta_2^{s,s+1}]\\|_2^2 \\\\\n",
    "&\\quad + \\frac{\\lambda}{\\text{dist}(\\bar{x}^s, \\bar{x}^{s+1}) + 1} \\|[\\omega\\beta_1^{s,s+1} + (1-\\omega)\\beta_2^{s,s+1}] - [\\omega\\beta_1^{s-1,s} + (1-\\omega)\\beta_2^{s-1,s}]\\|_1 \\bigg) \\\\\n",
    "&\\le \\sum_{s=1}^{k^\\prime} \\bigg( \\omega \\|y^{s,s+1} - X^{s,s+1}\\beta_1^{s,s+1}\\|_2^2 + (1-\\omega) \\|y^{s,s+1} - X^{s,s+1}\\beta_2^{s,s+1}\\|_2^2 \\\\\n",
    "&\\quad + \\omega \\frac{\\lambda}{\\text{dist}(\\bar{x}^s, \\bar{x}^{s+1}) + 1} \\|\\beta_1^{s,s+1} - \\beta_1^{s-1,s}\\|_1 \\\\\n",
    "&\\quad + (1-\\omega) \\frac{\\lambda}{\\text{dist}(\\bar{x}^s, \\bar{x}^{s+1}) + 1} \\|\\beta_2^{s,s+1} - \\beta_2^{s-1,s}\\|_1 \\bigg) \\\\\n",
    "&= \\omega L(\\beta_1) + (1-\\omega)L(\\beta_2)\n",
    "\\end{align*}\n"
   ]
  },
  {
   "attachments": {},
   "cell_type": "markdown",
   "metadata": {},
   "source": [
    "由引理1和引理2，我们有："
   ]
  },
  {
   "attachments": {},
   "cell_type": "markdown",
   "metadata": {},
   "source": [
    "$$\n",
    "\\begin{align*}\n",
    "&\\qquad f(\\omega\\beta_1+(1-\\omega)\\beta_2) \\\\\n",
    "&\\le \\sum\\limits_{s=1}^{k-1}\\left\\{\\omega||y^{s,s+1}-X^{s,s+1}\\beta_1^{s,s+1}||_2^2+(1-\\omega)||y^{s,s+1}-X^{s,s+1}\\beta_2^{s,s+1}||_2^2 \\right\\}\n",
    "+ \\left\\{ \\omega||y^{k,1}-X^{k,1}\\beta_1^{k,1}||_2^2+(1-\\omega)||y^{k,1}-X^{k,1}\\beta_2^{k,1}||_2^2 \\right\\} \\\\\n",
    "&+ \\sum\\limits_{s=2}^{k-1}\\left\\{ \\omega\\lambda_s||\\beta_1^{s,s+1}-\\beta_1^{s-1,s}||_1+(1-\\omega)\\lambda_s||\\beta_2^{s,s+1}-\\beta_2^{s-1,s}||_1 \\right\\}  \n",
    "+ \\left\\{ \\omega\\lambda_1||\\beta_1^{1,2}-\\beta_1^{k,1}||_1+(1-\\omega)\\lambda_1||\\beta_2^{1,2}-\\beta_2^{k,1}||_1 \\right\\} \\\\\n",
    "&+ \\left\\{ \\omega\\lambda_k||\\beta_1^{k,1}-\\beta_1^{k-1,k}||_1+(1-\\omega)\\lambda_k||\\beta_2^{k,1}-\\beta_2^{k-1,k}||_1 \\right\\} \\\\\n",
    "&= \\omega\\left\\{ \\sum\\limits_{s=1}^{k-1}||y^{s,s+1}-X^{s,s+1}\\beta_1^{s,s+1}||_2^2+||y^{k,1}-X^{k,1}\\beta_1^{k,1}||_2^2\n",
    "+\\sum\\limits_{s=2}^{k-1}\\lambda_s||\\beta_1^{s,s+1}-\\beta_1^{s-1,s}||_1+\\lambda_1||\\beta_1^{1,2}-\\beta_1^{k,1}||_1 +\\lambda_k||\\beta_1^{k,1}-\\beta_1^{k-1,k}||_1 \\right\\} \\\\\n",
    "&+ (1-\\omega)\\left\\{ \\sum\\limits_{s=1}^{k-1}||y^{s,s+1}-X^{s,s+1}\\beta_2^{s,s+1}||_2^2+||y^{k,1}-X^{k,1}\\beta_2^{k,1}||_2^2\n",
    "+\\sum\\limits_{s=2}^{k-1}\\lambda_s||\\beta_2^{s,s+1}-\\beta_2^{s-1,s}||_1+\\lambda_1||\\beta_2^{1,2}-\\beta_2^{k,1}||_1 +\\lambda_k||\\beta_2^{k,1}-\\beta_2^{k-1,k}||_1 \\right\\} \\\\\n",
    "&=\\omega f(\\beta_1)+(1-\\omega)f(\\beta_2)\n",
    "\\end{align*} \n",
    "$$"
   ]
  },
  {
   "cell_type": "markdown",
   "metadata": {},
   "source": [
    "\\begin{align*}\n",
    "L(\\omega\\beta_1 &+ (1-\\omega)\\beta_2) \\le \\\\\n",
    "&\\sum_{s=1}^{k-1} \\left\\{ \\omega\\|y^{s,s+1} - X^{s,s+1}\\beta_1^{s,s+1}\\|_2^2 + (1-\\omega)\\|y^{s,s+1} - X^{s,s+1}\\beta_2^{s,s+1}\\|_2^2 \\right\\} \\\\\n",
    "&+ \\left\\{ \\omega\\|y^{k,1} - X^{k,1}\\beta_1^{k,1}\\|_2^2 + (1-\\omega)\\|y^{k,1} - X^{k,1}\\beta_2^{k,1}\\|_2^2 \\right\\} \\\\\n",
    "&+ \\sum_{s=2}^{k-1} \\left\\{ \\omega\\lambda_s\\|\\beta_1^{s,s+1} - \\beta_1^{s-1,s}\\|_1 + (1-\\omega)\\lambda_s\\|\\beta_2^{s,s+1} - \\beta_2^{s-1,s}\\|_1 \\right\\} \\\\\n",
    "&+ \\left\\{ \\omega\\lambda_1\\|\\beta_1^{1,2} - \\beta_1^{k,1}\\|_1 + (1-\\omega)\\lambda_1\\|\\beta_2^{1,2} - \\beta_2^{k,1}\\|_1 \\right\\} \\\\\n",
    "&+ \\left\\{ \\omega\\lambda_k\\|\\beta_1^{k,1} - \\beta_1^{k-1,k}\\|_1 + (1-\\omega)\\lambda_k\\|\\beta_2^{k,1} - \\beta_2^{k-1,k}\\|_1 \\right\\} \\\\\n",
    "&= \\omega \\left\\{ \\sum_{s=1}^{k-1}\\|y^{s,s+1} - X^{s,s+1}\\beta_1^{s,s+1}\\|_2^2 + \\|y^{k,1} - X^{k,1}\\beta_1^{k,1}\\|_2^2 \\right. \\\\\n",
    "&\\quad \\left. + \\sum_{s=2}^{k-1}\\lambda_s\\|\\beta_1^{s,s+1} - \\beta_1^{s-1,s}\\|_1 + \\lambda_1\\|\\beta_1^{1,2} - \\beta_1^{k,1}\\|_1 + \\lambda_k\\|\\beta_1^{k,1} - \\beta_1^{k-1,k}\\|_1 \\right\\} \\\\\n",
    "&+ (1-\\omega) \\left\\{ \\sum_{s=1}^{k-1}\\|y^{s,s+1} - X^{s,s+1}\\beta_2^{s,s+1}\\|_2^2 + \\|y^{k,1} - X^{k,1}\\beta_2^{k,1}\\|_2^2 \\right. \\\\\n",
    "&\\quad \\left. + \\sum_{s=2}^{k-1}\\lambda_s\\|\\beta_2^{s,s+1} - \\beta_2^{s-1,s}\\|_1 + \\lambda_1\\|\\beta_2^{1,2} - \\beta_2^{k,1}\\|_1 + \\lambda_k\\|\\beta_2^{k,1} - \\beta_2^{k-1,k}\\|_1 \\right\\} \\\\\n",
    "&= \\omega L(\\beta_1) + (1-\\omega)L(\\beta_2)\n",
    "\\end{align*}\n"
   ]
  },
  {
   "attachments": {},
   "cell_type": "markdown",
   "metadata": {},
   "source": [
    "# 引理1"
   ]
  },
  {
   "attachments": {},
   "cell_type": "markdown",
   "metadata": {},
   "source": [
    "对于函数$f(\\beta)=||y-X\\beta||_2^2$，其中$y\\in R^{n\\times1},\\;X\\in R^{n\\times p},\\;\\beta\\in R^{p\\times1}$，我们有：对$\\forall\\omega\\in[0,1],\\beta_1\\in R^{p\\times1},\\beta_2\\in R^{p\\times1}$"
   ]
  },
  {
   "attachments": {},
   "cell_type": "markdown",
   "metadata": {},
   "source": [
    "$$\n",
    "f(\\omega\\beta_1+(1-\\omega)\\beta_2)\\le \\omega f(\\beta_1)+(1-\\omega)f(\\beta_2)\n",
    "$$"
   ]
  },
  {
   "attachments": {},
   "cell_type": "markdown",
   "metadata": {},
   "source": [
    "Proof:"
   ]
  },
  {
   "attachments": {},
   "cell_type": "markdown",
   "metadata": {},
   "source": [
    "$$\n",
    "\\begin{align*}\n",
    "&\\qquad f(\\omega\\beta_1+(1-\\omega)\\beta_2)- \\omega f(\\beta_1)-(1-\\omega)f(\\beta_2) \\\\\n",
    "&=||y-X(\\omega\\beta_1+(1-\\omega)\\beta_2)||_2^2-\\omega||y-X\\beta_1||_2^2-(1-\\omega)||y-X\\beta_2||_2^2 \\\\\n",
    "&=||\\omega y+(1-\\omega)y-X(\\omega\\beta_1+(1-\\omega)\\beta_2)||_2^2-\\omega||y-X\\beta_1||_2^2-(1-\\omega)||y-X\\beta_2||_2^2 \\\\\n",
    "&=||\\omega(y-X\\beta_1)+(1-\\omega)(y-X\\beta_2)||_2^2-\\omega||y-X\\beta_1||_2^2-(1-\\omega)||y-X\\beta_2||_2^2 \\\\\n",
    "&=\\omega^2||y-X\\beta_1||_2^2+(1-\\omega)^2||y-X\\beta_2||_2^2 +2\\omega(1-\\omega)(y-X\\beta_1)^\\prime(y-X\\beta_2)-\\omega||y-X\\beta_1||_2^2-(1-\\omega)||y-X\\beta_2||_2^2 \\\\\n",
    "&=\\omega^2||y-X\\beta_1||_2^2+(1-2\\omega+\\omega^2)||y-X\\beta_2||_2^2 +(2\\omega-2\\omega^2)(y-X\\beta_1)^\\prime(y-X\\beta_2)-\\omega||y-X\\beta_1||_2^2-(1-\\omega)||y-X\\beta_2||_2^2 \\\\\n",
    "&=\\omega^2\\left(||y-X\\beta_1||_2^2 - 2(y-X\\beta_1)^\\prime(y-X\\beta_2)+||y-X\\beta_2||_2^2 \\right)+(1-2\\omega)||y-X\\beta_2||_2^2+2\\omega(y-X\\beta_1)^\\prime(y-X\\beta_2)-\\omega||y-X\\beta_1||_2^2-(1-\\omega)||y-X\\beta_2||_2^2 \\\\\n",
    "&=\\omega^2||(y-X\\beta_1)-(y-X\\beta_2)||_2^2+2\\omega(y-X\\beta_1)^\\prime(y-X\\beta_2)-\\omega||y-X\\beta_1||_2^2-\\omega||y-X\\beta_2||_2^2 \\\\\n",
    "&=\\omega^2||(y-X\\beta_1)-(y-X\\beta_2)||_2^2-\\omega||(y-X\\beta_1)-(y-X\\beta_2)||_2^2 \\\\\n",
    "&=\\omega(\\omega-1)||(y-X\\beta_1)-(y-X\\beta_2)||_2^2 \\\\\n",
    "&\\le0\n",
    "\\end{align*}\n",
    "$$"
   ]
  },
  {
   "attachments": {},
   "cell_type": "markdown",
   "metadata": {},
   "source": [
    "# 引理2"
   ]
  },
  {
   "attachments": {},
   "cell_type": "markdown",
   "metadata": {},
   "source": [
    "对于函数$f(\\beta)=||\\beta^1-\\beta^2||_1$，其中$\\beta=\\left[ (\\beta^1)^\\prime,(\\beta^2)^\\prime \\right]^\\prime\\in R^{2p\\times1}$，$\\beta^1\\in R^{p\\times1}$，$\\beta^2\\in R^{p\\times1}$，我们有：对$\\forall\\omega\\in[0,1],\\beta_1\\in R^{2p\\times1},\\beta_2\\in R^{2p\\times1}$"
   ]
  },
  {
   "attachments": {},
   "cell_type": "markdown",
   "metadata": {},
   "source": [
    "$$\n",
    "f(\\omega\\beta_1+(1-\\omega)\\beta_2)\\le \\omega f(\\beta_1)+(1-\\omega)f(\\beta_2)\n",
    "$$"
   ]
  },
  {
   "attachments": {},
   "cell_type": "markdown",
   "metadata": {},
   "source": [
    "Proof:"
   ]
  },
  {
   "attachments": {},
   "cell_type": "markdown",
   "metadata": {},
   "source": [
    "$$\n",
    "\\begin{align*}\n",
    "f(\\omega\\beta_1+(1-\\omega)\\beta_2)&=||(\\omega\\beta_1^1+(1-\\omega)\\beta_2^1)-(\\omega\\beta_1^2+(1-\\omega)\\beta_2^2)||_1 \\\\\n",
    "&= ||\\omega(\\beta_1^1-\\beta_1^2)+(1-\\omega)(\\beta_2^1-\\beta_2^2)||_1 \\\\\n",
    "&\\le \\omega||\\beta_1^1-\\beta_1^2||_1+(1-\\omega)||\\beta_2^1-\\beta_2^2||_1 \\\\\n",
    "&= \\omega f(\\beta_1)+(1-\\omega)f(\\beta_2)\n",
    "\\end{align*}\n",
    "$$"
   ]
  },
  {
   "cell_type": "markdown",
   "metadata": {},
   "source": []
  }
 ],
 "metadata": {
  "kernelspec": {
   "display_name": "paper",
   "language": "python",
   "name": "python3"
  },
  "language_info": {
   "name": "python",
   "version": "3.10.12 (main, Jul  5 2023, 15:34:07) [Clang 14.0.6 ]"
  },
  "orig_nbformat": 4,
  "vscode": {
   "interpreter": {
    "hash": "3d866bab37dd9ab0edb7ee7b3f9538265ec58f225140511a088397364b5079bb"
   }
  }
 },
 "nbformat": 4,
 "nbformat_minor": 2
}
