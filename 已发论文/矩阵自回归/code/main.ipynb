{
 "cells": [
  {
   "cell_type": "code",
   "execution_count": 8,
   "metadata": {},
   "outputs": [],
   "source": [
    "import numpy as np\n",
    "from tqdm import tqdm\n",
    "import copy\n",
    "from Step1_mar import mar_cd,mar_iter_ols,mar_PROJ,mar_adalasso,mar_scad,mar_lasso\n",
    "from Step2_vector import vector_adalasso, vector_lasso, vector_scad\n",
    "from Step3_sparse_mar import final_mar_cd,final_mar_adalasso,final_mar_adalasso2\n",
    "from utils import rate,metrics_dif_kron,matrix_stack,genetate_data"
   ]
  },
  {
   "cell_type": "markdown",
   "metadata": {},
   "source": [
    "## 时间序列样本生成"
   ]
  },
  {
   "cell_type": "code",
   "execution_count": 28,
   "metadata": {},
   "outputs": [
    {
     "name": "stdout",
     "output_type": "stream",
     "text": [
      "True\n",
      "True\n",
      "True\n",
      "[[ 0.21349036 -0.90892363 -0.0938591   0.12524292  0.01241109 -0.        ]\n",
      " [ 0.          0.15162193 -0.22367464  0.         -0.          0.85397302]\n",
      " [ 0.         -0.         -0.21552404  0.50486657 -0.         -0.        ]]\n",
      "[[ 0.         -0.          0.         -0.          0.         -0.        ]\n",
      " [ 0.56551944  0.          0.          0.          0.         -0.76721149]\n",
      " [ 0.          0.         -0.         -0.          0.         -0.42834358]]\n"
     ]
    }
   ],
   "source": [
    "p = 2\n",
    "dim_A = 3\n",
    "dim_B = 3\n",
    "T = 100\n",
    "A_true,B_true,X = genetate_data(dim_A,dim_B,T,p,p_1=0.5,uniform=[-1,1],uniform_x=[1,10])\n",
    "# X = matrix_stack(X, p)\n",
    "U1, Sigma1, V1 = np.linalg.svd(A_true)\n",
    "U2, Sigma2, V2 = np.linalg.svd(B_true)\n",
    "V3, Sigma3, V3 = np.linalg.svd(np.kron(B_true,A_true))\n",
    "print(max(abs((Sigma1))<1))\n",
    "print(max(abs((Sigma2))<1))\n",
    "print(max(abs((Sigma3))<1))\n",
    "print(A_true)\n",
    "print(B_true)"
   ]
  },
  {
   "cell_type": "markdown",
   "metadata": {},
   "source": [
    "## 第一阶段估计"
   ]
  },
  {
   "cell_type": "code",
   "execution_count": 29,
   "metadata": {},
   "outputs": [
    {
     "name": "stderr",
     "output_type": "stream",
     "text": [
      "  1%|          | 38/5000 [00:00<00:23, 209.00it/s]\n",
      "100%|██████████| 5000/5000 [00:01<00:00, 4117.16it/s]"
     ]
    },
    {
     "name": "stdout",
     "output_type": "stream",
     "text": [
      "MAR-坐标下降法\n",
      "张量积误差\n",
      "-2.4738653692344132\n",
      "-0.3950424324512826\n",
      "-----------------------------------------\n",
      "MAR-投影法\n",
      "张量积误差\n",
      "-1.1460619569789758\n",
      "-0.14550714473892212\n",
      "-----------------------------------------\n",
      "MAR-迭代最小二乘法\n",
      "张量积误差\n",
      "-2.1037884071859003\n",
      "-1.8935864631673265\n"
     ]
    },
    {
     "name": "stderr",
     "output_type": "stream",
     "text": [
      "\n"
     ]
    }
   ],
   "source": [
    "A_cd, B_cd = mar_cd(X,p)\n",
    "A_proj, B_proj = mar_PROJ(X,p)\n",
    "A_iter_ols, B_iter_ols = mar_iter_ols(X,p)\n",
    "print(\"MAR-坐标下降法\")\n",
    "print('张量积误差')\n",
    "for i in range(p):\n",
    "    print(metrics_dif_kron(A_true[:,i*dim_A:(i+1)*dim_A],B_true[:,i*dim_B:(i+1)*dim_B],A_hat=A_cd[:,i*dim_A:(i+1)*dim_A],B_hat=B_cd[:,i*dim_B:(i+1)*dim_B]))\n",
    "\n",
    "print('-----------------------------------------')\n",
    "print(\"MAR-投影法\")\n",
    "print('张量积误差')\n",
    "for i in range(p):\n",
    "    print(metrics_dif_kron(A_true[:,i*dim_A:(i+1)*dim_A],B_true[:,i*dim_B:(i+1)*dim_B],A_hat=A_proj[:,i*dim_A:(i+1)*dim_A],B_hat=B_proj[:,i*dim_B:(i+1)*dim_B]))\n",
    "\n",
    "print('-----------------------------------------')\n",
    "print(\"MAR-迭代最小二乘法\")\n",
    "print('张量积误差')\n",
    "for i in range(p):\n",
    "    print(metrics_dif_kron(A_true[:,i*dim_A:(i+1)*dim_A],B_true[:,i*dim_B:(i+1)*dim_B],A_hat=A_iter_ols[:,i*dim_A:(i+1)*dim_A],B_hat=B_iter_ols[:,i*dim_B:(i+1)*dim_B]))\n",
    "\n"
   ]
  },
  {
   "cell_type": "code",
   "execution_count": 32,
   "metadata": {},
   "outputs": [],
   "source": [
    "A_cd = A_iter_ols\n",
    "B_cd = B_iter_ols"
   ]
  },
  {
   "cell_type": "markdown",
   "metadata": {},
   "source": [
    "## 第二阶段参数选择\n",
    "#### 改进方法"
   ]
  },
  {
   "cell_type": "code",
   "execution_count": 33,
   "metadata": {},
   "outputs": [
    {
     "name": "stderr",
     "output_type": "stream",
     "text": [
      "  0%|          | 10/5000 [00:00<02:42, 30.71it/s]"
     ]
    },
    {
     "name": "stdout",
     "output_type": "stream",
     "text": [
      "转换模型 adaptive lasso\n",
      "rate_A_mar_0: 0.875\n",
      "rate_B_mar_0: 0.6\n",
      "rate_A_mar_1: 0.6\n",
      "rate_B_mar_1: 1.0\n",
      "rate_mar_0: 0.6956521739130435\n",
      "rate_mar_1: 0.6923076923076923\n",
      "----------------------------------------\n"
     ]
    },
    {
     "name": "stderr",
     "output_type": "stream",
     "text": [
      "\n"
     ]
    }
   ],
   "source": [
    "lambda_ = 1\n",
    "A_hat_adalasso,B_hat_adalasso = vector_adalasso(X,A_cd,B_cd,p,lam=lambda_)\n",
    "# A_hat_lasso,B_hat_lasso = vector_lasso(X,A_cd,B_cd,lam)\n",
    "# A_hat_scad,B_hat_scad = vector_scad(X,A_cd,B_cd,lam)\n",
    "\n",
    "print('转换模型 adaptive lasso')\n",
    "rate(A_true,B_true,A_hat_adalasso,B_hat_adalasso)\n",
    "print('--'*20)\n",
    "\n",
    "# print('转换模型 lasso')\n",
    "# rate(A_true,B_true.T,A_hat_lasso,B_hat_lasso)\n",
    "# print('--'*20)\n",
    "\n",
    "# print('转换模型 scad ')\n",
    "# rate(A_true,B_true[0,:,:].T,A_hat_scad,B_hat_scad)\n"
   ]
  },
  {
   "cell_type": "markdown",
   "metadata": {},
   "source": [
    "#### 原模型方法"
   ]
  },
  {
   "cell_type": "code",
   "execution_count": 34,
   "metadata": {},
   "outputs": [
    {
     "name": "stderr",
     "output_type": "stream",
     "text": [
      "  0%|          | 2/5000 [00:00<00:41, 119.38it/s]"
     ]
    },
    {
     "name": "stdout",
     "output_type": "stream",
     "text": [
      "mar adaptive lasso\n",
      "rate_A_mar_0: 1.0\n",
      "rate_B_mar_0: 0.5333333333333333\n",
      "rate_A_mar_1: 0.2\n",
      "rate_B_mar_1: 0.6666666666666666\n",
      "rate_mar_0: 0.6956521739130435\n",
      "rate_mar_1: 0.3076923076923077\n",
      "张量积误差\n",
      "-1.1400211974591792\n",
      "-0.44446481502585067\n"
     ]
    },
    {
     "name": "stderr",
     "output_type": "stream",
     "text": [
      "\n"
     ]
    }
   ],
   "source": [
    "A_hat_1, B_hat_1 = mar_adalasso(X,A_cd,B_cd,p,lam1=1,lam2=1,max_iter=5000)\n",
    "# print(np.where(A_hat_==0,0,1))\n",
    "# print(np.where(B_hat_==0,0,1))\n",
    "print('mar adaptive lasso')\n",
    "rate(A_true,B_true,A_hat_1,B_hat_1)\n",
    "print('张量积误差')\n",
    "for i in range(p):\n",
    "    print(metrics_dif_kron(A_true[:,i*dim_A:(i+1)*dim_A],B_true[:,i*dim_B:(i+1)*dim_B],A_hat=A_hat_1[:,i*dim_A:(i+1)*dim_A],B_hat=B_hat_1[:,i*dim_B:(i+1)*dim_B]))\n",
    "\n",
    "# print(metrics_dif_kron(A_true,B_true.T,A_hat=A_hat_1,B_hat=B_hat_1))\n",
    "# print(\"--\"*20)\n",
    "\n",
    "# A_hat_2, B_hat_2 = mar_lasso(X,A_cd,B_cd,lam1=1,lam2=1)\n",
    "# print('mar lasso')\n",
    "# rate(A_true,B_true,A_hat_2,B_hat_2)\n",
    "# print('张量积误差')\n",
    "# print(metrics_dif_kron(A_true,B_true,A_hat_2,B_hat_2))\n",
    "# print(\"--\"*20)\n",
    "\n",
    "# A_hat_3, B_hat_3 = mar_scad(X,A_cd,B_cd,lam1=1,lam2=1)\n",
    "# print('mar scad')\n",
    "# rate(A_true,B_true,A_hat_3,B_hat_3)\n",
    "# print('张量积误差')\n",
    "# print(metrics_dif_kron(A_true,B_true,A_hat_3,B_hat_3))\n",
    "# print(\"--\"*20)"
   ]
  },
  {
   "cell_type": "markdown",
   "metadata": {},
   "source": [
    "## 第三阶段"
   ]
  },
  {
   "cell_type": "code",
   "execution_count": 22,
   "metadata": {},
   "outputs": [
    {
     "name": "stderr",
     "output_type": "stream",
     "text": [
      "  0%|          | 7/5000 [00:00<00:32, 152.21it/s]"
     ]
    },
    {
     "name": "stdout",
     "output_type": "stream",
     "text": [
      "[[ 0.          0.         -0.38078091  0.          0.22196782  0.        ]\n",
      " [-0.10855882 -0.08712713  0.12255239  0.          0.         -0.33937364]\n",
      " [ 0.          0.80865544 -0.04735876  0.          0.          0.        ]]\n",
      "[[ 0.89561384 -0.27022677  0.          0.          0.30028888  0.        ]\n",
      " [ 0.16552375 -0.2225545   0.34582768  0.          0.          0.        ]\n",
      " [ 0.         -0.16045208  0.          0.30028888  0.          0.        ]]\n",
      "-1.7728574541749627\n",
      "-2.829095825144093\n"
     ]
    },
    {
     "name": "stderr",
     "output_type": "stream",
     "text": [
      "\n"
     ]
    }
   ],
   "source": [
    "A_hat1, B_hat1 = final_mar_cd(X,p,A_hat_adalasso,B_hat_adalasso,A_cd,B_cd,max_iter=5000)\n",
    "print(A_hat1)\n",
    "print(B_hat1)\n",
    "for i in range(p):\n",
    "    print(metrics_dif_kron(A_true[:,i*dim_A:(i+1)*dim_A],B_true[:,i*dim_B:(i+1)*dim_B],A_hat=A_hat1[:,i*dim_A:(i+1)*dim_A],B_hat=B_hat1[:,i*dim_B:(i+1)*dim_B]))\n"
   ]
  },
  {
   "cell_type": "code",
   "execution_count": 23,
   "metadata": {},
   "outputs": [
    {
     "name": "stderr",
     "output_type": "stream",
     "text": [
      "100%|██████████| 500/500 [00:02<00:00, 212.13it/s]"
     ]
    },
    {
     "name": "stdout",
     "output_type": "stream",
     "text": [
      "[[ 0.          0.         -0.45900903  0.          0.          0.        ]\n",
      " [-0.12145054 -0.0913464   0.07623208  0.          0.         -0.        ]\n",
      " [ 0.          0.87150981 -0.02959122  0.          0.          0.        ]]\n",
      "[[ 0.78924518 -0.20405491  0.          0.          0.05608064  0.        ]\n",
      " [ 0.07830667 -0.08286316  0.27919453  0.          0.          0.        ]\n",
      " [ 0.         -0.02126067  0.          0.05608064  0.          0.        ]]\n",
      "-2.4579023338302433\n",
      "-3.069688958974828\n"
     ]
    },
    {
     "name": "stderr",
     "output_type": "stream",
     "text": [
      "\n"
     ]
    }
   ],
   "source": [
    "A_hat1, B_hat1 = final_mar_adalasso(X,A_hat_adalasso,B_hat_adalasso,A_cd,B_cd,p,lam1=1,lam2=1,max_iter=500)\n",
    "print(A_hat1)\n",
    "print(B_hat1)\n",
    "for i in range(p):\n",
    "    print(metrics_dif_kron(A_true[:,i*dim_A:(i+1)*dim_A],B_true[:,i*dim_B:(i+1)*dim_B],A_hat=A_hat1[:,i*dim_A:(i+1)*dim_A],B_hat=B_hat1[:,i*dim_B:(i+1)*dim_B]))\n"
   ]
  },
  {
   "cell_type": "code",
   "execution_count": 27,
   "metadata": {},
   "outputs": [
    {
     "name": "stderr",
     "output_type": "stream",
     "text": [
      " 43%|████▎     | 215/500 [00:01<00:01, 210.70it/s]"
     ]
    },
    {
     "name": "stdout",
     "output_type": "stream",
     "text": [
      "[[-0.         -0.         -0.43622788 -0.          0.         -0.        ]\n",
      " [-0.08611585 -0.04495405  0.04753916 -0.         -0.         -0.        ]\n",
      " [ 0.          0.89331319 -0.         -0.         -0.         -0.        ]]\n",
      "[[ 0.79291859 -0.23359524  0.          0.11222641  0.11222641  0.11222641]\n",
      " [ 0.10922255 -0.14388113  0.30802907  0.11222641  0.11222641  0.11222641]\n",
      " [-0.         -0.09119369 -0.          0.11222641  0.11222641  0.11222641]]\n",
      "-2.1295405436830346\n",
      "-3.069688958974828\n"
     ]
    },
    {
     "name": "stderr",
     "output_type": "stream",
     "text": [
      "\n"
     ]
    }
   ],
   "source": [
    "A_hat1, B_hat1 = final_mar_adalasso2(X,A_hat_adalasso,B_hat_adalasso,A_cd,B_cd,p,lam1=1,lam2=1,delta=1e-5,max_iter=500)\n",
    "print(A_hat1)\n",
    "print(B_hat1)\n",
    "for i in range(p):\n",
    "    print(metrics_dif_kron(A_true[:,i*dim_A:(i+1)*dim_A],B_true[:,i*dim_B:(i+1)*dim_B],A_hat=A_hat1[:,i*dim_A:(i+1)*dim_A],B_hat=B_hat1[:,i*dim_B:(i+1)*dim_B]))\n"
   ]
  },
  {
   "cell_type": "code",
   "execution_count": null,
   "metadata": {},
   "outputs": [],
   "source": []
  }
 ],
 "metadata": {
  "kernelspec": {
   "display_name": "paper",
   "language": "python",
   "name": "python3"
  },
  "language_info": {
   "codemirror_mode": {
    "name": "ipython",
    "version": 3
   },
   "file_extension": ".py",
   "mimetype": "text/x-python",
   "name": "python",
   "nbconvert_exporter": "python",
   "pygments_lexer": "ipython3",
   "version": "3.10.12"
  },
  "vscode": {
   "interpreter": {
    "hash": "3d866bab37dd9ab0edb7ee7b3f9538265ec58f225140511a088397364b5079bb"
   }
  }
 },
 "nbformat": 4,
 "nbformat_minor": 2
}
