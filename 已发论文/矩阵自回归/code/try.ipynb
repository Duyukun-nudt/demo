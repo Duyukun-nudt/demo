{
 "cells": [
  {
   "cell_type": "code",
   "execution_count": 1,
   "metadata": {},
   "outputs": [],
   "source": [
    "import numpy as np\n",
    "from tqdm import tqdm\n",
    "import copy\n",
    "from Step1_mar import mar_cd,mar_iter_ols,mar_PROJ,mar_adalasso,mar_scad,mar_lasso\n",
    "from Step2_vector import vector_adalasso, vector_lasso, vector_scad\n",
    "from Step3_sparse_mar import final_mar_cd\n",
    "from utils import rate,metrics_dif_kron,matrix_stack,genetate_data"
   ]
  },
  {
   "cell_type": "code",
   "execution_count": 23,
   "metadata": {},
   "outputs": [
    {
     "name": "stderr",
     "output_type": "stream",
     "text": [
      "  1%|          | 45/5000 [00:00<00:42, 115.40it/s]\n",
      "  1%|          | 39/5000 [00:07<15:02,  5.50it/s]\n",
      "  4%|▍         | 214/5000 [00:01<00:40, 119.19it/s]\n",
      "  1%|          | 28/5000 [00:00<00:42, 116.42it/s]\n",
      "  0%|          | 24/5000 [00:04<15:04,  5.50it/s]\n",
      "  3%|▎         | 157/5000 [00:01<00:40, 119.01it/s]\n",
      "  0%|          | 23/5000 [00:00<00:42, 115.85it/s]\n",
      "  0%|          | 16/5000 [00:02<15:25,  5.38it/s]\n",
      "  3%|▎         | 151/5000 [00:01<00:40, 119.08it/s]\n",
      "  1%|          | 28/5000 [00:00<00:42, 116.10it/s]\n",
      "  0%|          | 22/5000 [00:04<15:22,  5.40it/s]\n",
      "  4%|▍         | 193/5000 [00:01<00:40, 119.18it/s]\n",
      "  1%|          | 41/5000 [00:00<00:42, 117.77it/s]\n",
      "  0%|          | 12/5000 [00:02<15:37,  5.32it/s]\n",
      "  1%|          | 62/5000 [00:00<00:42, 117.37it/s]\n",
      "  1%|          | 28/5000 [00:00<00:42, 116.14it/s]\n",
      "  0%|          | 22/5000 [00:03<14:58,  5.54it/s]\n",
      "  3%|▎         | 127/5000 [00:01<00:41, 118.84it/s]\n",
      "  1%|          | 29/5000 [00:00<00:42, 116.57it/s]\n",
      "  0%|          | 17/5000 [00:04<21:55,  3.79it/s]\n",
      "  4%|▍         | 199/5000 [00:01<00:42, 114.23it/s]\n",
      "  1%|          | 34/5000 [00:00<00:44, 112.39it/s]\n",
      "  1%|          | 32/5000 [00:06<16:00,  5.17it/s]\n",
      "  4%|▍         | 219/5000 [00:01<00:40, 118.87it/s]\n",
      "  1%|          | 37/5000 [00:00<00:42, 117.73it/s]\n",
      "  0%|          | 21/5000 [00:03<15:16,  5.43it/s]\n",
      "  6%|▌         | 281/5000 [00:02<00:39, 119.43it/s]\n",
      "  1%|          | 38/5000 [00:00<00:42, 117.99it/s]\n",
      "  1%|          | 28/5000 [00:05<15:03,  5.51it/s]\n",
      "  3%|▎         | 126/5000 [00:01<00:41, 118.85it/s]\n",
      "  0%|          | 22/5000 [00:00<00:42, 115.83it/s]\n",
      "  0%|          | 11/5000 [00:02<15:28,  5.38it/s]\n",
      "  2%|▏         | 90/5000 [00:00<00:41, 118.11it/s]\n",
      "  0%|          | 24/5000 [00:00<00:42, 116.21it/s]\n",
      "  0%|          | 13/5000 [00:02<15:53,  5.23it/s]\n",
      "  1%|▏         | 65/5000 [00:00<00:42, 117.20it/s]\n",
      "  0%|          | 20/5000 [00:00<00:43, 115.18it/s]\n",
      "  0%|          | 19/5000 [00:03<15:00,  5.53it/s]\n",
      "  3%|▎         | 139/5000 [00:01<00:40, 118.99it/s]\n",
      "  1%|          | 31/5000 [00:00<00:42, 117.01it/s]\n",
      "  0%|          | 20/5000 [00:03<16:10,  5.13it/s]\n",
      "  3%|▎         | 165/5000 [00:01<00:40, 119.21it/s]\n",
      "  0%|          | 23/5000 [00:00<00:42, 116.20it/s]\n",
      "  0%|          | 22/5000 [00:03<14:47,  5.61it/s]\n",
      "  3%|▎         | 142/5000 [00:01<00:40, 118.73it/s]\n",
      "  0%|          | 25/5000 [00:00<00:42, 116.58it/s]\n",
      "  0%|          | 13/5000 [00:02<15:55,  5.22it/s]\n",
      "  2%|▏         | 93/5000 [00:00<00:41, 118.07it/s]\n",
      "  1%|          | 26/5000 [00:00<00:42, 116.31it/s]\n",
      "  0%|          | 23/5000 [00:04<15:01,  5.52it/s]\n",
      "  4%|▍         | 196/5000 [00:01<00:40, 119.15it/s]\n",
      "  0%|          | 24/5000 [00:00<00:42, 116.32it/s]\n",
      "  0%|          | 16/5000 [00:03<15:36,  5.32it/s]\n",
      "  4%|▍         | 190/5000 [00:01<00:40, 119.31it/s]\n",
      "  1%|          | 40/5000 [00:00<00:42, 118.08it/s]\n",
      "  1%|          | 37/5000 [00:06<14:31,  5.69it/s]\n",
      "  7%|▋         | 328/5000 [00:02<00:39, 119.46it/s]\n",
      "  1%|          | 49/5000 [00:00<00:41, 118.86it/s]\n",
      "  1%|          | 40/5000 [00:07<14:52,  5.56it/s]\n",
      "  9%|▉         | 452/5000 [00:03<00:38, 119.56it/s]\n",
      "  1%|          | 31/5000 [00:00<00:42, 117.17it/s]\n",
      "  1%|          | 33/5000 [00:05<14:40,  5.64it/s]\n",
      "  2%|▏         | 122/5000 [00:01<00:41, 118.74it/s]\n",
      "  1%|          | 37/5000 [00:00<00:42, 118.06it/s]\n",
      "  0%|          | 22/5000 [00:04<15:23,  5.39it/s]\n",
      "  3%|▎         | 167/5000 [00:01<00:40, 118.96it/s]\n",
      "  1%|          | 34/5000 [00:00<00:42, 117.42it/s]\n",
      "  0%|          | 19/5000 [00:03<14:53,  5.57it/s]\n",
      "  5%|▍         | 242/5000 [00:02<00:39, 119.21it/s]\n",
      "  1%|          | 26/5000 [00:00<00:42, 116.47it/s]\n",
      "  0%|          | 13/5000 [00:02<15:29,  5.36it/s]\n",
      "  2%|▏         | 89/5000 [00:00<00:41, 118.01it/s]\n",
      "  1%|          | 47/5000 [00:00<00:41, 118.69it/s]\n",
      "  0%|          | 8/5000 [00:01<16:03,  5.18it/s]\n",
      "  1%|          | 57/5000 [00:00<00:42, 116.95it/s]\n"
     ]
    }
   ],
   "source": [
    "a0 = []\n",
    "a1 = []\n",
    "b0 = []\n",
    "b1 = []\n",
    "for _ in range(25):\n",
    "    for __ in range(5000):\n",
    "        p = 1\n",
    "        dim_A = 5\n",
    "        dim_B = 5\n",
    "        T = 100\n",
    "        A_true,B_true,X = genetate_data(dim_A,dim_B,T,p,p_1=0.5,uniform=[0.1,0.5],uniform_x=[1,10])\n",
    "        # X = matrix_stack(X, p)\n",
    "        U1, Sigma1, V1 = np.linalg.svd(A_true)\n",
    "        U2, Sigma2, V2 = np.linalg.svd(B_true)\n",
    "        V3, Sigma3, V3 = np.linalg.svd(np.kron(B_true,A_true))\n",
    "        \n",
    "        if max(abs((Sigma1))<1) & max(abs((Sigma2))<1) & max(abs((Sigma3))<1):\n",
    "            break\n",
    "    A_cd, B_cd = mar_cd(X,p)\n",
    "    lambda_ = 1\n",
    "    A_hat_adalasso,B_hat_adalasso = vector_adalasso(X,A_cd,B_cd,lam=lambda_)\n",
    "    a0.append((np.sum((A_hat_adalasso==(np.where(A_true==0,0,1)))&(A_true==0))+np.sum((B_hat_adalasso==(np.where(B_true==0,0,1)))&(B_true==0)))/(np.sum(A_true==0)+np.sum(B_true==0)))\n",
    "    a1.append((np.sum((A_hat_adalasso!=0)&(A_true!=0))+np.sum((B_hat_adalasso!=0)&(B_true!=0)))/(np.sum(A_true!=0)+np.sum(B_true!=0)))\n",
    "    A_hat_1, B_hat_1 = mar_adalasso(X,A_cd,B_cd,lam1=1,lam2=1)\n",
    "    b0.append((np.sum((A_hat_1==(np.where(A_true==0,0,1)))&(A_true==0))+np.sum((B_hat_1==(np.where(B_true==0,0,1)))&(B_true==0)))/(np.sum(A_true==0)+np.sum(B_true==0)))\n",
    "    b1.append((np.sum((A_hat_1!=0)&(A_true!=0))+np.sum((B_hat_1!=0)&(B_true!=0)))/(np.sum(A_true!=0)+np.sum(B_true!=0)))\n",
    "    \n",
    "    \n",
    "    "
   ]
  },
  {
   "cell_type": "code",
   "execution_count": 24,
   "metadata": {},
   "outputs": [
    {
     "data": {
      "text/plain": [
       "0.1697797919665986"
      ]
     },
     "execution_count": 24,
     "metadata": {},
     "output_type": "execute_result"
    }
   ],
   "source": [
    "np.mean(np.array(a0)-np.array(b0))"
   ]
  },
  {
   "cell_type": "code",
   "execution_count": 25,
   "metadata": {},
   "outputs": [
    {
     "data": {
      "text/plain": [
       "array([0.25      , 0.2       , 0.07407407, 0.11111111, 0.20689655,\n",
       "       0.30769231, 0.125     , 0.2173913 , 0.28      , 0.09090909,\n",
       "       0.15384615, 0.07692308, 0.11538462, 0.16666667, 0.16666667,\n",
       "       0.14285714, 0.14285714, 0.0952381 , 0.36363636, 0.23076923,\n",
       "       0.08695652, 0.17241379, 0.18518519, 0.17857143, 0.10344828])"
      ]
     },
     "execution_count": 25,
     "metadata": {},
     "output_type": "execute_result"
    }
   ],
   "source": [
    "np.array(a0)-np.array(b0)"
   ]
  },
  {
   "cell_type": "code",
   "execution_count": 26,
   "metadata": {},
   "outputs": [
    {
     "data": {
      "text/plain": [
       "-0.03429945755283087"
      ]
     },
     "execution_count": 26,
     "metadata": {},
     "output_type": "execute_result"
    }
   ],
   "source": [
    "np.mean(np.array(a1)-np.array(b1))"
   ]
  },
  {
   "cell_type": "code",
   "execution_count": 27,
   "metadata": {},
   "outputs": [
    {
     "data": {
      "text/plain": [
       "array([ 0.        ,  0.        ,  0.04347826, -0.04347826, -0.0952381 ,\n",
       "        0.        ,  0.        , -0.07407407,  0.        , -0.03571429,\n",
       "       -0.04166667,  0.        ,  0.        , -0.03846154, -0.03846154,\n",
       "       -0.04545455, -0.04545455, -0.13793103, -0.03571429, -0.04166667,\n",
       "        0.        , -0.04761905, -0.08695652, -0.04545455, -0.04761905])"
      ]
     },
     "execution_count": 27,
     "metadata": {},
     "output_type": "execute_result"
    }
   ],
   "source": [
    "np.array(a1)-np.array(b1)"
   ]
  },
  {
   "cell_type": "code",
   "execution_count": null,
   "metadata": {},
   "outputs": [],
   "source": []
  }
 ],
 "metadata": {
  "kernelspec": {
   "display_name": "paper",
   "language": "python",
   "name": "python3"
  },
  "language_info": {
   "codemirror_mode": {
    "name": "ipython",
    "version": 3
   },
   "file_extension": ".py",
   "mimetype": "text/x-python",
   "name": "python",
   "nbconvert_exporter": "python",
   "pygments_lexer": "ipython3",
   "version": "3.10.12"
  },
  "orig_nbformat": 4,
  "vscode": {
   "interpreter": {
    "hash": "3d866bab37dd9ab0edb7ee7b3f9538265ec58f225140511a088397364b5079bb"
   }
  }
 },
 "nbformat": 4,
 "nbformat_minor": 2
}
