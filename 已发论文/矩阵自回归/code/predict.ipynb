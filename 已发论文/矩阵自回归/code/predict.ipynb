{
 "cells": [
  {
   "cell_type": "code",
   "execution_count": 1,
   "metadata": {},
   "outputs": [],
   "source": [
    "import numpy as np\n",
    "from tqdm import tqdm\n",
    "import copy\n",
    "from Step1_mar import mar_cd,mar_iter_ols,mar_PROJ,mar_adalasso,mar_scad,mar_lasso\n",
    "from Step2_vector import vector_adalasso, vector_lasso, vector_scad\n",
    "from Step3_sparse_mar import final_mar_cd,final_mar_adalasso\n",
    "from utils import rate,metrics_dif_kron,matrix_stack,genetate_data"
   ]
  },
  {
   "cell_type": "code",
   "execution_count": 4,
   "metadata": {},
   "outputs": [
    {
     "name": "stdout",
     "output_type": "stream",
     "text": [
      "True\n",
      "True\n",
      "True\n",
      "[[-0.33192698 -0.57980376  0.17405077  0.14689558]\n",
      " [-0.1981445   0.         -0.         -0.        ]\n",
      " [-0.07656045  0.63082105 -0.21828678 -0.07284609]\n",
      " [ 0.0465573  -0.          0.05999086  0.        ]]\n",
      "[[-0.          0.          0.19200803 -1.18637702]\n",
      " [-0.21573649  0.60713426 -0.          0.24652368]\n",
      " [ 0.60049639  0.          0.1694448   0.        ]\n",
      " [ 0.29656647 -0.37617722 -0.         -1.03310827]]\n"
     ]
    }
   ],
   "source": [
    "p = 1\n",
    "dim_A = 4\n",
    "dim_B = 4\n",
    "T = 150\n",
    "A_true,B_true,X = genetate_data(dim_A,dim_B,T,p,p_1=0.5,uniform=[-1,1],uniform_x=[1,10])\n",
    "# X = matrix_stack(X, p)\n",
    "U1, Sigma1, V1 = np.linalg.svd(A_true)\n",
    "U2, Sigma2, V2 = np.linalg.svd(B_true)\n",
    "V3, Sigma3, V3 = np.linalg.svd(np.kron(B_true,A_true))\n",
    "print(max(abs((Sigma1))<1))\n",
    "print(max(abs((Sigma2))<1))\n",
    "print(max(abs((Sigma3))<1))\n",
    "print(A_true)\n",
    "print(B_true)\n",
    "\n",
    "X_train = X[:100,:,:]\n",
    "X_pred = X[100:,:,:]"
   ]
  },
  {
   "cell_type": "code",
   "execution_count": 5,
   "metadata": {},
   "outputs": [
    {
     "name": "stderr",
     "output_type": "stream",
     "text": [
      "  0%|          | 15/5000 [00:00<00:27, 182.00it/s]\n",
      "  0%|          | 17/5000 [00:00<02:21, 35.28it/s]\n",
      " 66%|██████▌   | 330/500 [00:01<00:00, 212.50it/s]\n",
      " 66%|██████▌   | 329/500 [00:01<00:00, 213.60it/s]"
     ]
    },
    {
     "name": "stdout",
     "output_type": "stream",
     "text": [
      "转换模型 adaptive lasso\n",
      "rate_A_mar_0: 0.6\n",
      "rate_B_mar_0: 0.6666666666666666\n",
      "rate_A_mar_1: 0.8181818181818182\n",
      "rate_B_mar_1: 1.0\n",
      "rate_mar_0: 0.6363636363636364\n",
      "rate_mar_1: 0.9047619047619048\n",
      "mar adaptive lasso\n",
      "rate_A_mar_0: 0.4\n",
      "rate_B_mar_0: 0.6666666666666666\n",
      "rate_A_mar_1: 0.8181818181818182\n",
      "rate_B_mar_1: 1.0\n",
      "rate_mar_0: 0.5454545454545454\n",
      "rate_mar_1: 0.9047619047619048\n"
     ]
    },
    {
     "name": "stderr",
     "output_type": "stream",
     "text": [
      "\n"
     ]
    }
   ],
   "source": [
    "A_cd, B_cd = mar_cd(X_train,p)\n",
    "lambda_ = 1\n",
    "A_hat_adalasso,B_hat_adalasso = vector_adalasso(X_train,A_cd,B_cd,p,lam=lambda_)\n",
    "# A_hat1, B_hat1 = final_mar_cd(X_train,p,A_hat_adalasso,B_hat_adalasso,A_cd,B_cd,max_iter=500)\n",
    "A_hat1, B_hat1 = final_mar_adalasso(X_train,A_hat_adalasso,B_hat_adalasso,A_cd,B_cd,p,lam1=1,lam2=1,max_iter=500)\n",
    "A_hat_1, B_hat_1 = mar_adalasso(X_train,A_cd,B_cd,p,lam1=1,lam2=1,max_iter=500)\n",
    "print('转换模型 adaptive lasso')\n",
    "rate(A_true,B_true,A_hat_adalasso,B_hat_adalasso)\n",
    "print('mar adaptive lasso')\n",
    "rate(A_true,B_true,A_hat_1,B_hat_1)"
   ]
  },
  {
   "cell_type": "code",
   "execution_count": 6,
   "metadata": {},
   "outputs": [
    {
     "name": "stdout",
     "output_type": "stream",
     "text": [
      "张量积误差\n",
      "cd\n",
      "-1.8811752111976865\n",
      "mar adaptive lasso\n",
      "-1.9553017519162659\n",
      "多步法\n",
      "-1.9605040675235803\n"
     ]
    }
   ],
   "source": [
    "print('张量积误差')\n",
    "print('cd')\n",
    "for i in range(p):\n",
    "    print(metrics_dif_kron(A_true[:,i*dim_A:(i+1)*dim_A],B_true[:,i*dim_B:(i+1)*dim_B],A_hat=A_cd[:,i*dim_A:(i+1)*dim_A],B_hat=B_cd[:,i*dim_B:(i+1)*dim_B]))\n",
    "print('mar adaptive lasso')\n",
    "for i in range(p):\n",
    "    print(metrics_dif_kron(A_true[:,i*dim_A:(i+1)*dim_A],B_true[:,i*dim_B:(i+1)*dim_B],A_hat=A_hat_1[:,i*dim_A:(i+1)*dim_A],B_hat=B_hat_1[:,i*dim_B:(i+1)*dim_B]))\n",
    "print('多步法')\n",
    "for i in range(p):\n",
    "    print(metrics_dif_kron(A_true[:,i*dim_A:(i+1)*dim_A],B_true[:,i*dim_B:(i+1)*dim_B],A_hat=A_hat1[:,i*dim_A:(i+1)*dim_A],B_hat=B_hat1[:,i*dim_B:(i+1)*dim_B]))\n"
   ]
  },
  {
   "cell_type": "code",
   "execution_count": 40,
   "metadata": {},
   "outputs": [
    {
     "name": "stdout",
     "output_type": "stream",
     "text": [
      "最小二乘估计\n"
     ]
    },
    {
     "data": {
      "text/plain": [
       "2.0546988675378963"
      ]
     },
     "execution_count": 40,
     "metadata": {},
     "output_type": "execute_result"
    }
   ],
   "source": [
    "print('最小二乘估计')\n",
    "pred1 = copy.deepcopy(X_pred)\n",
    "pred1[0,:,:] = A_cd[:,:dim_A]@X_train[-1,:,:]@B_cd[:,:dim_B].T\n",
    "for j in range(1,p):\n",
    "    pred1[0,:,:] += A_cd[:,j*dim_A:(j+1)*dim_A]@X_train[-1,:,:]@B_cd[:,j*dim_B:(j+1)*dim_B].T\n",
    "for i in range(1,pred1.shape[0]):\n",
    "    \n",
    "    pred1[i,:,:] = A_cd[:,:dim_A]@X_train[-1,:,:]@B_cd[:,:dim_B].T\n",
    "    for j in range(1,p):\n",
    "        pred1[i,:,:] += A_cd[:,j*dim_A:(j+1)*dim_A]@pred1[i-1,:,:]@B_cd[:,j*dim_B:(j+1)*dim_B].T\n",
    "np.mean(abs(pred1-X_pred))"
   ]
  },
  {
   "cell_type": "code",
   "execution_count": 41,
   "metadata": {},
   "outputs": [
    {
     "name": "stdout",
     "output_type": "stream",
     "text": [
      "矩阵自回归adaptive lasso\n"
     ]
    },
    {
     "data": {
      "text/plain": [
       "2.054440965167662"
      ]
     },
     "execution_count": 41,
     "metadata": {},
     "output_type": "execute_result"
    }
   ],
   "source": [
    "print('矩阵自回归adaptive lasso')\n",
    "pred2 = copy.deepcopy(X_pred)\n",
    "# pred2[0,:,:] = A_hat_1@X_train[-1,:,:]@B_hat_1.T\n",
    "# for i in range(1,pred2.shape[0]):\n",
    "#     pred2[i,:,:] = A_hat_1@pred2[i-1,:,:]@B_hat_1.T\n",
    "pred2[0,:,:] = A_hat_1[:,:dim_A]@X_train[-1,:,:]@B_hat_1[:,:dim_B].T\n",
    "for j in range(1,p):\n",
    "    pred2[0,:,:] += A_hat_1[:,j*dim_A:(j+1)*dim_A]@X_train[-1,:,:]@B_hat_1[:,j*dim_B:(j+1)*dim_B].T\n",
    "for i in range(1,pred1.shape[0]):\n",
    "    pred2[i,:,:] = A_hat_1[:,:dim_A]@X_train[-1,:,:]@B_hat_1[:,:dim_B].T\n",
    "    for j in range(1,p):\n",
    "        pred2[i,:,:] += A_hat_1[:,j*dim_A:(j+1)*dim_A]@pred2[i-1,:,:]@B_hat_1[:,j*dim_B:(j+1)*dim_B].T\n",
    "np.mean(abs(pred2-X_pred))"
   ]
  },
  {
   "cell_type": "code",
   "execution_count": 42,
   "metadata": {},
   "outputs": [
    {
     "name": "stdout",
     "output_type": "stream",
     "text": [
      "多步法\n"
     ]
    },
    {
     "data": {
      "text/plain": [
       "2.052689622682266"
      ]
     },
     "execution_count": 42,
     "metadata": {},
     "output_type": "execute_result"
    }
   ],
   "source": [
    "print('多步法')\n",
    "pred3 = copy.deepcopy(X_pred)\n",
    "# pred3[0,:,:] = A_hat1@X_train[-1,:,:]@B_hat1.T\n",
    "# for i in range(1,pred3.shape[0]):\n",
    "#     pred3[i,:,:] = A_hat1@pred3[i-1,:,:]@B_hat1.T\n",
    "pred3[0,:,:] = A_hat1[:,:dim_A]@X_train[-1,:,:]@B_hat1[:,:dim_B].T\n",
    "for j in range(1,p):\n",
    "    pred3[0,:,:] += A_hat1[:,j*dim_A:(j+1)*dim_A]@X_train[-1,:,:]@B_hat1[:,j*dim_B:(j+1)*dim_B].T\n",
    "for i in range(1,pred1.shape[0]):\n",
    "    pred3[i,:,:] = A_hat1[:,:dim_A]@X_train[-1,:,:]@B_hat1[:,:dim_B].T\n",
    "    for j in range(1,p):\n",
    "        pred3[i,:,:] += A_hat1[:,j*dim_A:(j+1)*dim_A]@pred3[i-1,:,:]@B_hat1[:,j*dim_B:(j+1)*dim_B].T\n",
    "np.mean(abs(pred3-X_pred))"
   ]
  },
  {
   "cell_type": "code",
   "execution_count": null,
   "metadata": {},
   "outputs": [],
   "source": []
  }
 ],
 "metadata": {
  "kernelspec": {
   "display_name": "paper",
   "language": "python",
   "name": "python3"
  },
  "language_info": {
   "codemirror_mode": {
    "name": "ipython",
    "version": 3
   },
   "file_extension": ".py",
   "mimetype": "text/x-python",
   "name": "python",
   "nbconvert_exporter": "python",
   "pygments_lexer": "ipython3",
   "version": "3.10.12"
  },
  "orig_nbformat": 4,
  "vscode": {
   "interpreter": {
    "hash": "3d866bab37dd9ab0edb7ee7b3f9538265ec58f225140511a088397364b5079bb"
   }
  }
 },
 "nbformat": 4,
 "nbformat_minor": 2
}
